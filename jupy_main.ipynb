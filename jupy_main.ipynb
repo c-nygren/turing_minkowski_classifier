{
 "cells": [
  {
   "cell_type": "markdown",
   "id": "ab2eca37",
   "metadata": {},
   "source": [
    "## Main script \n",
    "\n",
    "This script runs the main simulation and any analysis/plotting functions."
   ]
  },
  {
   "cell_type": "code",
   "execution_count": 8,
   "id": "4c97dfba",
   "metadata": {},
   "outputs": [],
   "source": [
    "import scipy.ndimage\n",
    "import projectcode as proj\n",
    "import plotcode as plot\n",
    "import numpy as np\n",
    "import analysis_utils as au\n",
    "import main_helpers as mh\n",
    "import matplotlib.pyplot as plt\n",
    "from pathlib import Path\n",
    "import scipy\n",
    "from PIL import Image\n",
    "from scipy.ndimage import gaussian_filter\n",
    "from tqdm import tqdm\n",
    "import seaborn as sns \n",
    "import image_processing as ip\n",
    "from dataclasses import replace\n",
    "import cProfile\n",
    "import pstats\n",
    "import poly_fit_analysis as pfa"
   ]
  },
  {
   "cell_type": "markdown",
   "id": "da40b4c7",
   "metadata": {},
   "source": [
    "### Define Parameters"
   ]
  },
  {
   "cell_type": "code",
   "execution_count": 2,
   "id": "2d815f6d",
   "metadata": {},
   "outputs": [],
   "source": [
    "params = proj.ModelParams(\n",
    "    Du=2e-5, \n",
    "    Dv=1e-5, \n",
    "    F=0.048,\n",
    "    k=0.063, # F0.037, k0.065 - dots, lambda, F0.048, k0.063 stripes, kappa\n",
    "    dt=1,\n",
    "    steps=35000,\n",
    "    N=256\n",
    "    )"
   ]
  },
  {
   "cell_type": "markdown",
   "id": "cd542c46",
   "metadata": {},
   "source": [
    "### Run simulation "
   ]
  },
  {
   "cell_type": "code",
   "execution_count": null,
   "id": "910b80ef",
   "metadata": {},
   "outputs": [],
   "source": [
    "usnap, vsnap, u, v = \\\n",
    "      proj.simulation(p=params, base_dir = \"data/simulations\", save=False) \n",
    "\n",
    "print(\"successful run\")"
   ]
  },
  {
   "cell_type": "code",
   "execution_count": 5,
   "id": "922bd7f4",
   "metadata": {},
   "outputs": [
    {
     "name": "stderr",
     "output_type": "stream",
     "text": [
      "100%|██████████| 35000/35000 [00:30<00:00, 1131.19it/s]\n"
     ]
    },
    {
     "name": "stdout",
     "output_type": "stream",
     "text": [
      "         2883783 function calls (2874468 primitive calls) in 30.958 seconds\n",
      "\n",
      "   Ordered by: cumulative time\n",
      "   List reduced from 367 to 20 due to restriction <20>\n",
      "\n",
      "   ncalls  tottime  percall  cumtime  percall filename:lineno(function)\n",
      "        2    0.000    0.000   24.097   12.049 /Users/sophiawellman/Git/Project3_cnygren_sawellman/.venv/lib/python3.13/site-packages/IPython/core/interactiveshell.py:3636(run_code)\n",
      "    70000    0.027    0.000   21.046    0.000 /Users/sophiawellman/Git/Project3_cnygren_sawellman/.venv/lib/python3.13/site-packages/scipy/ndimage/_filters.py:949(convolve)\n",
      "    70000    0.303    0.000   21.019    0.000 /Users/sophiawellman/Git/Project3_cnygren_sawellman/.venv/lib/python3.13/site-packages/scipy/ndimage/_filters.py:820(_correlate_or_convolve)\n",
      "    70000   19.983    0.000   19.983    0.000 {built-in method scipy.ndimage._nd_image.correlate}\n",
      "    70000    0.066    0.000    0.499    0.000 /Users/sophiawellman/Git/Project3_cnygren_sawellman/.venv/lib/python3.13/site-packages/scipy/ndimage/_ni_support.py:78(_get_output)\n",
      "1549/1548    0.004    0.000    0.494    0.000 /opt/homebrew/Cellar/python@3.13/3.13.0_1/Frameworks/Python.framework/Versions/3.13/lib/python3.13/asyncio/events.py:87(_run)\n",
      "     1549    0.106    0.000    0.487    0.000 {method 'run' of '_contextvars.Context' objects}\n",
      "        2    0.000    0.000    0.307    0.154 {built-in method builtins.exec}\n",
      "    70001    0.231    0.000    0.231    0.000 {built-in method numpy.zeros}\n",
      "    70000    0.067    0.000    0.202    0.000 /Users/sophiawellman/Git/Project3_cnygren_sawellman/.venv/lib/python3.13/site-packages/numpy/_core/_dtype.py:350(_name_get)\n",
      "    35001    0.008    0.000    0.164    0.000 /Users/sophiawellman/Git/Project3_cnygren_sawellman/.venv/lib/python3.13/site-packages/tqdm/std.py:1160(__iter__)\n",
      "     1235    0.003    0.000    0.163    0.000 /Users/sophiawellman/Git/Project3_cnygren_sawellman/.venv/lib/python3.13/site-packages/zmq/eventloop/zmqstream.py:573(_handle_events)\n",
      "      305    0.002    0.000    0.154    0.001 /Users/sophiawellman/Git/Project3_cnygren_sawellman/.venv/lib/python3.13/site-packages/tqdm/std.py:1198(update)\n",
      "      306    0.001    0.000    0.153    0.000 /Users/sophiawellman/Git/Project3_cnygren_sawellman/.venv/lib/python3.13/site-packages/tqdm/std.py:1325(refresh)\n",
      "      307    0.001    0.000    0.149    0.000 /Users/sophiawellman/Git/Project3_cnygren_sawellman/.venv/lib/python3.13/site-packages/tqdm/std.py:1464(display)\n",
      "      307    0.001    0.000    0.133    0.000 /Users/sophiawellman/Git/Project3_cnygren_sawellman/.venv/lib/python3.13/site-packages/tqdm/std.py:457(print_status)\n",
      "      616    0.001    0.000    0.132    0.000 /Users/sophiawellman/Git/Project3_cnygren_sawellman/.venv/lib/python3.13/site-packages/tqdm/utils.py:194(inner)\n",
      "      307    0.000    0.000    0.126    0.000 /Users/sophiawellman/Git/Project3_cnygren_sawellman/.venv/lib/python3.13/site-packages/tqdm/std.py:451(fp_write)\n",
      "    70000    0.024    0.000    0.107    0.000 /Users/sophiawellman/Git/Project3_cnygren_sawellman/.venv/lib/python3.13/site-packages/numpy/_core/_dtype.py:334(_name_includes_bit_suffix)\n",
      "      309    0.002    0.000    0.106    0.000 /Users/sophiawellman/Git/Project3_cnygren_sawellman/.venv/lib/python3.13/site-packages/ipykernel/iostream.py:592(flush)\n",
      "\n",
      "\n"
     ]
    },
    {
     "data": {
      "text/plain": [
       "<pstats.Stats at 0x2b8987a10>"
      ]
     },
     "execution_count": 5,
     "metadata": {},
     "output_type": "execute_result"
    }
   ],
   "source": [
    "\n",
    "profiler = cProfile.Profile()\n",
    "profiler.enable()\n",
    "\n",
    "usnap, vsnap, u, v  = proj.simulation(p=params, base_dir = \"data/simulations\", save=False) \n",
    "\n",
    "\n",
    "profiler.disable()\n",
    "\n",
    "stats = pstats.Stats(profiler)\n",
    "stats.sort_stats(\"cumulative\").print_stats(20)  # Top 20 functions by cumulative time\n"
   ]
  },
  {
   "cell_type": "markdown",
   "id": "b1d99a76",
   "metadata": {},
   "source": [
    "### Animation Plots"
   ]
  },
  {
   "cell_type": "code",
   "execution_count": null,
   "id": "dd4870a9",
   "metadata": {},
   "outputs": [],
   "source": [
    "clipped_arr = plot.pearson_arr(U_snap=usnap, V_snap=vsnap)\n",
    "plot.pearson_plot(clipped_array=clipped_arr, id_number=2)\n",
    "\n",
    "plot.animate_snapshots(\"222735\", save_name=\"Test_miscDots_k0051_F0024.gif\")"
   ]
  },
  {
   "cell_type": "markdown",
   "id": "917bf5f5",
   "metadata": {},
   "source": [
    "### Analysis Parameters\n",
    "\n",
    "Base set parameters defined.\n",
    "I was testing other types of blurs, but gaussian sigma 1 will do"
   ]
  },
  {
   "cell_type": "code",
   "execution_count": null,
   "id": "0ec63e8f",
   "metadata": {},
   "outputs": [],
   "source": [
    "analysis_params = au.PipelineConfig(\n",
    "    input_stack = \"\",       # gets overwritten in config_dots_stripes()\n",
    "    folder_name = \"\",       # same\n",
    "    blur_type   = \"gaussian\", # three types: \"gaussian\", \"median\", \"mecke\"\n",
    "    sigma       = 2.5,\n",
    "    ksize       = 3,\n",
    "    fwhm_px     = 0.05,    # for \"mecke\" blur\n",
    "    gamma       = 2,      # for \"mecke\" blur\n",
    "    tag         = None,\n",
    ")\n"
   ]
  },
  {
   "cell_type": "markdown",
   "id": "c568c000",
   "metadata": {},
   "source": [
    "This automatically creates the configs for dots and stripes, with the parameters defined above."
   ]
  },
  {
   "cell_type": "code",
   "execution_count": null,
   "id": "0c544361",
   "metadata": {},
   "outputs": [],
   "source": [
    "dots_cfg, stripes_cfg = mh.config_dots_stripes(analysis_params)"
   ]
  },
  {
   "cell_type": "markdown",
   "id": "3180dedb",
   "metadata": {},
   "source": [
    "### Run analysis pipeline\n",
    "This runs the full analysis pipeline for both dots and stripes, we always use the sigma 0\n",
    "image_stack (already set up in dots_cfg, stripes_cfg) as the base, and then can apply different blurs"
   ]
  },
  {
   "cell_type": "code",
   "execution_count": null,
   "id": "04561847",
   "metadata": {},
   "outputs": [],
   "source": [
    "dots_results = paths = mh.run_pipeline(\n",
    "    **dots_cfg.__dict__ \n",
    ")\n",
    "\n",
    "print(\"\\nAll output files:\")\n",
    "for k, v in paths.items():\n",
    "    print(f\"  {k:7s} : {v}\")\n",
    "\n",
    "stripes_results = paths = mh.run_pipeline(\n",
    "    **stripes_cfg.__dict__ \n",
    ")\n",
    "\n",
    "print(\"\\nAll output files:\")\n",
    "for k, v in paths.items():\n",
    "    print(f\"  {k:7s} : {v}\")"
   ]
  },
  {
   "cell_type": "markdown",
   "id": "91489b40",
   "metadata": {},
   "source": [
    "### Run pipeline for a single image\n",
    "\n",
    "This runs the full analysis pipeline for a single image, for pearson\n",
    "once you have the data for both, and the comparison plots to mecke\n",
    "it would be good to make separate plots comparing our results (in stats)\n",
    "to pearson. Use sigma 1 for our results (s1).\n",
    "Data found in data\\stats\\dots\\s1 and data\\stats\\stripes\\s1.\n",
    "Use original image (array that was converted to grayscale), and this applies the blur to it. We will use sigma 1 for both."
   ]
  },
  {
   "cell_type": "code",
   "execution_count": null,
   "id": "a7ffc03b",
   "metadata": {},
   "outputs": [],
   "source": [
    "dots_results = mh.run_pipeline(\"data/journal/final_presentation/pearson_converted/NEW_pearson_dots_array.npy\",\n",
    "                folder_name = \"pearson/dots/s1\",\n",
    "                blur_type=\"gaussian\", # make sure this is gaussian\n",
    "                sigma=1, # applying sigma 1 to original image\n",
    "                levels=256,\n",
    "                outroot=\"data/stats/\",\n",
    "                tag=None)\n",
    "    \n",
    "stripes_results = mh.run_pipeline(\"data/journal/final_presentation/pearson_converted/NEW_pearson_stripes_array.npy\",\n",
    "                folder_name = \"pearson/stripes/s1\",\n",
    "                blur_type=\"gaussian\",\n",
    "                sigma=1,\n",
    "                levels=256,\n",
    "                outroot=\"data/stats/\",\n",
    "                tag=None)"
   ]
  },
  {
   "cell_type": "markdown",
   "id": "2e2138b7",
   "metadata": {},
   "source": [
    "### Run plotting pipeline\n",
    "\n",
    "this runs the entire plotting pipeline for dots vs stripes\n",
    "once you have the data for both, and the comparison plots to mecke."
   ]
  },
  {
   "cell_type": "code",
   "execution_count": null,
   "id": "4ded2ed6",
   "metadata": {},
   "outputs": [],
   "source": [
    "mh.run_dots_vs_stripes_plots(dots_results, stripes_results=stripes_results, n_points=150)"
   ]
  },
  {
   "cell_type": "code",
   "execution_count": null,
   "id": "c031dd11",
   "metadata": {},
   "outputs": [],
   "source": [
    "red   = sns.color_palette(\"Set1\", 4)[3]\n",
    "green = sns.color_palette(\"Set1\", 4)[2]\n",
    "\n",
    "dots_stats   = \"data/stats/pearson/dots/s1/curves_s1_1runs_stats.npz\"\n",
    "dots_fit     = \"data/stats/pearson/dots/s1/curves_s1_1runs_fit.npz\"\n",
    "stripes_stats = \"data/stats/pearson/stripes/s1/curves_s1_1runs_stats.npz\"\n",
    "stripes_fit   = \"data/stats/pearson/stripes/s1/curves_s1_1runs_fit.npz\"\n",
    "ours_dots_stats = \"data/stats/dots/s1/curves_s1_20runs_stats.npz\"\n",
    "ours_dots_fit = \"data/stats/dots/s1/curves_s1_20runs_fit.npz\"\n",
    "ours_stripes_stats = \"data/stats/stripes/s1/curves_s1_20runs_stats.npz\"\n",
    "ours_stripes_fit = \"data/stats/stripes/s1/curves_s1_20runs_fit.npz\"\n",
    "\n",
    "plot_dir = Path(\"data/journal/final_presentation/comparison_PvsUs_sigma1\")\n",
    "plot_dir.mkdir(parents=True, exist_ok=True)\n",
    "\n",
    "for metric in (\"v\", \"s\", \"chi\"):\n",
    "    png = plot_dir/f\"pearson_dots_{metric}.png\"\n",
    "\n",
    "    plot.save_raw_data_plots_extended(100, metric, png, dots_stats, dots_fit,\n",
    "                                    ours_dots_stats, ours_dots_fit,\n",
    "                                    stripes_stats, stripes_fit, \n",
    "                                    ours_stripes_stats, ours_stripes_fit,)\n",
    "\n",
    "\n",
    "\n",
    "for func in (\"pv\", \"ps\", \"pchi\"):\n",
    "    png = plot_dir/f\"pearson_vs_us_{func}.png\"\n",
    "    plot.plot_functional_comparison(func, png,\n",
    "                        dots_stats, dots_fit,\n",
    "                        ours_dots_stats, ours_dots_fit,\n",
    "                        stripes_stats, stripes_fit, \n",
    "                        ours_stripes_stats, ours_stripes_fit,\n",
    "                        n_points=100)"
   ]
  },
  {
   "cell_type": "markdown",
   "id": "4bbc64b8",
   "metadata": {},
   "source": [
    "### WIP: Pearson dots and stripes creation"
   ]
  },
  {
   "cell_type": "code",
   "execution_count": null,
   "id": "440e8734",
   "metadata": {},
   "outputs": [],
   "source": [
    "pearson_dots = ip.convert_img_to_grayscale_NEW(\"data/pearson/original_images/pearson_dots.png\")\n",
    "pearson_dots_blurred = scipy.ndimage.gaussian_filter(pearson_dots, sigma=1)\n",
    "plt.imshow(pearson_dots, cmap='gray')\n",
    "plt.axis(\"off\")\n",
    "plt.show()\n",
    "\n",
    "np.save(\"NEW_pearson_dots_array.npy\", pearson_dots)\n",
    "v, s, chi = au.threshold_curves(pearson_dots_blurred)\n",
    "au.plot_threshold_curves(v,s,chi)\n",
    "pv, ps, pchi = au.transform_curves(v, s, chi)\n",
    "au.plot_transform_curves(pv, ps, pchi)\n"
   ]
  },
  {
   "cell_type": "code",
   "execution_count": null,
   "id": "b9038b48",
   "metadata": {},
   "outputs": [],
   "source": [
    "pearson_stripes = ip.convert_img_to_grayscale_NEW(\"data/pearson/original_images/pearson_stripes.png\")\n",
    "pearson_stripes_blurred = scipy.ndimage.gaussian_filter(pearson_stripes, sigma=1)\n",
    "plt.imshow(pearson_stripes, cmap='gray')\n",
    "plt.axis(\"off\")\n",
    "plt.show()\n",
    "\n",
    "np.save(\"NEW_pearson_stripes_array.npy\", pearson_stripes)\n",
    "v, s, chi = au.threshold_curves(pearson_stripes_blurred)\n",
    "au.plot_threshold_curves(v,s,chi)\n",
    "pv, ps, pchi = au.transform_curves(v, s, chi)\n",
    "au.plot_transform_curves(pv, ps, pchi)\n"
   ]
  },
  {
   "cell_type": "markdown",
   "id": "93106ba7",
   "metadata": {},
   "source": [
    "### Color test"
   ]
  },
  {
   "cell_type": "code",
   "execution_count": null,
   "id": "4dbebc07",
   "metadata": {},
   "outputs": [],
   "source": [
    "grey = au.convert_img_to_grayscale(\"data\\stats\\dots\\sigma0\\img\\I_raw_seed0.png\",\n",
    "                            median_blur=3)\n",
    "\n",
    "print(\"grey.shape =\", grey.shape) \n",
    "plt.imshow(grey, cmap='gray')\n",
    "plt.axis(\"off\")\n",
    "plt.show()\n",
    "v, s, chi = au.threshold_curves(grey)\n",
    "au.plot_threshold_curves(v, s, chi)\n",
    "pv, ps, pchi = au.transform_curves(v, s, chi)\n",
    "au.plot_transform_curves(pv, ps, pchi)"
   ]
  },
  {
   "cell_type": "markdown",
   "id": "4ec12ad5",
   "metadata": {},
   "source": [
    "### Statistical analysis, us vs Pearson"
   ]
  },
  {
   "cell_type": "code",
   "execution_count": 15,
   "id": "22cb3c2d",
   "metadata": {},
   "outputs": [
    {
     "name": "stdout",
     "output_type": "stream",
     "text": [
      "RMS pv between Pearson and Ours (dots): 0.1306\n",
      "RMS ps between Pearson and Ours (dots): 0.2827\n",
      "RMS pchi between Pearson and Ours (dots): 0.2580\n",
      "RMS pv between Pearson and Ours (stripes): 0.0797\n",
      "RMS ps between Pearson and Ours (stripes): 0.0831\n",
      "RMS pchi between Pearson and Ours (stripes): 0.2897\n",
      "Orientation agreement (dots vs stripes, us vs Pearson): same-sign: 1.000, Pearson corr: 0.851\n",
      "Orientation agreement (dots vs stripes, us vs Pearson): same-sign: 0.698, Pearson corr: 0.531\n",
      "Orientation agreement (dots vs stripes, us vs Pearson): same-sign: 1.000, Pearson corr: 0.893\n"
     ]
    }
   ],
   "source": [
    "pearson_dots = pfa.load_fit_coeffs(\"data/stats/pearson/dots/s1/curves_s1_1runs_fit.npz\")\n",
    "pearson_stripes = pfa.load_fit_coeffs(\"data/stats/pearson/stripes/s1/curves_s1_1runs_fit.npz\")\n",
    "our_dots = pfa.load_fit_coeffs(\"data/stats/dots/s1/curves_s1_20runs_fit.npz\")\n",
    "our_stripes = pfa.load_fit_coeffs(\"data/stats/stripes/s1/curves_s1_20runs_fit.npz\")\n",
    "\n",
    "# RMS comparison dots\n",
    "rms = pfa.compute_rms(pearson_dots[\"pv\"], our_dots[\"pv\"], normalise=\"range\")\n",
    "print(f\"RMS pv between Pearson and Ours (dots): {rms:.4f}\")\n",
    "rms = pfa.compute_rms(pearson_dots[\"ps\"], our_dots[\"ps\"], normalise=\"range\")\n",
    "print(f\"RMS ps between Pearson and Ours (dots): {rms:.4f}\")\n",
    "rms = pfa.compute_rms(pearson_dots[\"pchi\"], our_dots[\"pchi\"], normalise=\"range\")\n",
    "print(f\"RMS pchi between Pearson and Ours (dots): {rms:.4f}\")\n",
    "\n",
    "# RMS comparison stripes \n",
    "rms = pfa.compute_rms(pearson_stripes[\"pv\"], our_stripes[\"pv\"], normalise=\"range\")\n",
    "print(f\"RMS pv between Pearson and Ours (stripes): {rms:.4f}\")\n",
    "rms = pfa.compute_rms(pearson_stripes[\"ps\"], our_stripes[\"ps\"], normalise=\"range\")\n",
    "print(f\"RMS ps between Pearson and Ours (stripes): {rms:.4f}\")\n",
    "rms = pfa.compute_rms(pearson_stripes[\"pchi\"], our_stripes[\"pchi\"], normalise=\"range\")\n",
    "print(f\"RMS pchi between Pearson and Ours (stripes): {rms:.4f}\")\n",
    "\n",
    "# Orientation agreement (e.g. do both have similar dots–stripes contrast)\n",
    "frac, corr = pfa.orientation_agreement(\n",
    "    our_dots[\"pv\"], our_stripes[\"pv\"],\n",
    "    pearson_dots[\"pv\"], pearson_stripes[\"pv\"]\n",
    ")\n",
    "print(f\"Orientation agreement (dots vs stripes, us vs Pearson): same-sign: {frac:.3f}, Pearson corr: {corr:.3f}\")\n",
    "\n",
    "frac, corr = pfa.orientation_agreement(\n",
    "    our_dots[\"ps\"], our_stripes[\"ps\"],\n",
    "    pearson_dots[\"ps\"], pearson_stripes[\"ps\"]\n",
    ")\n",
    "print(f\"Orientation agreement (dots vs stripes, us vs Pearson): same-sign: {frac:.3f}, Pearson corr: {corr:.3f}\")\n",
    "\n",
    "frac, corr = pfa.orientation_agreement(\n",
    "    our_dots[\"pchi\"], our_stripes[\"pchi\"],\n",
    "    pearson_dots[\"pchi\"], pearson_stripes[\"pchi\"]\n",
    ")\n",
    "print(f\"Orientation agreement (dots vs stripes, us vs Pearson): same-sign: {frac:.3f}, Pearson corr: {corr:.3f}\")\n"
   ]
  },
  {
   "cell_type": "code",
   "execution_count": null,
   "id": "3e1f46d6",
   "metadata": {},
   "outputs": [],
   "source": []
  }
 ],
 "metadata": {
  "kernelspec": {
   "display_name": ".venv",
   "language": "python",
   "name": "python3"
  },
  "language_info": {
   "codemirror_mode": {
    "name": "ipython",
    "version": 3
   },
   "file_extension": ".py",
   "mimetype": "text/x-python",
   "name": "python",
   "nbconvert_exporter": "python",
   "pygments_lexer": "ipython3",
   "version": "3.13.0"
  }
 },
 "nbformat": 4,
 "nbformat_minor": 5
}
